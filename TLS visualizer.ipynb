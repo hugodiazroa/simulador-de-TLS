{
 "cells": [
  {
   "metadata": {},
   "cell_type": "markdown",
   "source": [
    "# simulador-de-TLS\n",
    "\n",
    "## This is a simple tool to visualize the TLS protocol.\n",
    "\n",
    "### By hugodiazroa\n",
    "### For Introducción a la Criptografía Moderna\n",
    "### CC5301-1 2024\n",
    "\n"
   ],
   "id": "5fa64cfd13e7b921"
  },
  {
   "cell_type": "code",
   "id": "initial_id",
   "metadata": {
    "collapsed": true,
    "ExecuteTime": {
     "end_time": "2024-12-10T00:25:16.198345Z",
     "start_time": "2024-12-10T00:25:16.193098Z"
    }
   },
   "source": [
    "#importamos las librerias necesarias\n",
    "from tkinter import *"
   ],
   "outputs": [],
   "execution_count": 31
  },
  {
   "metadata": {},
   "cell_type": "markdown",
   "source": [
    "# simulador-de-TLS\n",
    "\n",
    "the task:\n",
    "\n",
    "\"\"\"\n",
    "\n",
    "Develop a system that simulates or illustrates the operation of TLS 1.3, including parameters, key agreement, certificates, encryption and authentication.\n",
    "\n",
    "parameters, key agreement, certificates, encryption and authentication.\n",
    "\n",
    "a. They should explicitly show what is going on in your system, thus allowing you to analyze and identify what is exchanged.\n",
    "\n",
    "b. Compare TLS 1.3 with version 1.2.\n",
    "\n",
    "\"\"\""
   ],
   "id": "c29c3a1a67908eed"
  },
  {
   "metadata": {
    "ExecuteTime": {
     "end_time": "2024-12-10T00:25:16.278570Z",
     "start_time": "2024-12-10T00:25:16.260456Z"
    }
   },
   "cell_type": "code",
   "source": [
    "#usaremos la libreria tkinter para crear la GUI\n",
    "#usaremos la libreria ssl para simular el protocolo TLS\n",
    "\n",
    "#crearemos una clase que contendra la GUI y la simulación del protocolo TLS\n",
    "\n",
    "class TLS_visualizer:\n",
    "    def __init__(self, r):\n",
    "        self.root = r\n",
    "        self.root.title(\"TLS Visualizer\")\n",
    "        self.root.geometry(\"800x600\")\n",
    "        self.root.resizable(False, False)\n",
    "        self.root.config(bg=\"#daa520\")  # Gold background\n",
    "\n",
    "        self.server = StringVar()\n",
    "        self.server.set(\"www.google.com\")\n",
    "        self.port = StringVar()\n",
    "        self.port.set(\"443\")\n",
    "        self.log = StringVar()\n",
    "        self.log.set(\"\")\n",
    "\n",
    "        title = Label(self.root, text=\"TLS Visualizer\", font=(\"Arial\", 20), bg=\"#daa520\")  # Gold background\n",
    "        title.pack(pady=10)\n",
    "\n",
    "        server_frame = Frame(self.root, bg=\"#b0b0b0\")  # Dark gray background\n",
    "        server_frame.pack(pady=10)\n",
    "\n",
    "        server_label = Label(server_frame, text=\"Server:\", font=(\"Arial\", 12), bg=\"#b0b0b0\")  # Dark gray background\n",
    "        server_label.grid(row=0, column=0)\n",
    "\n",
    "        server_entry = Entry(server_frame, textvariable=self.server, font=(\"Arial\", 12))\n",
    "        server_entry.grid(row=0, column=1)\n",
    "\n",
    "        port_frame = Frame(self.root, bg=\"#b0b0b0\")  # Dark gray background\n",
    "        port_frame.pack(pady=10)\n",
    "\n",
    "        port_label = Label(port_frame, text=\"Port:\", font=(\"Arial\", 12), bg=\"#b0b0b0\")  # Dark gray background\n",
    "        port_label.grid(row=0, column=0)\n",
    "\n",
    "        port_entry = Entry(port_frame, textvariable=self.port, font=(\"Arial\", 12))\n",
    "        port_entry.grid(row=0, column=1)\n",
    "\n",
    "        connect_button = Button(self.root, text=\"Connect\", font=(\"Arial\", 12), command=self.connect)\n",
    "        connect_button.pack(pady=10)\n",
    "\n",
    "        handshake_button = Button(self.root, text=\"Handshake TLS 1.2\", font=(\"Arial\", 12), command=self.simulate_handshake2)\n",
    "        handshake_button.pack(pady=10)\n",
    "\n",
    "        handshake_button = Button(self.root, text=\"Handshake TLS 1.3\", font=(\"Arial\", 12), command=self.simulate_handshake3)\n",
    "        handshake_button.pack(pady=10)\n",
    "\n",
    "        handshake_button = Button(self.root, text=\"Handshake TLS etc.\", font=(\"Arial\", 12), command=self.simulate_handshake_etc)\n",
    "        handshake_button.pack(pady=10)\n",
    "\n",
    "        quit_button = Button(self.root, text=\"Quit\", font=(\"Arial\", 12), command=self.root.quit)\n",
    "        quit_button.pack(pady=10)\n",
    "\n",
    "        # log display\n",
    "        self.log_display = Text(self.root, font=(\"Arial\", 12), width=80, height=20, bg=\"#705103\", fg=\"white\")\n",
    "        self.log_display.pack(pady=10)\n",
    "\n",
    "    def connect(self):\n",
    "        server = self.server.get()\n",
    "        port = self.port.get()\n",
    "\n",
    "        self.log_display.insert(END, f\"Connecting to server {server} on port {port}...\\n\")\n",
    "        self.log_display.see(END)\n",
    "\n",
    "        # Simulate connection and log details\n",
    "        self.log_display.insert(END, \"Client: localhost\\n\")\n",
    "        self.log_display.insert(END, \"Server: \" + server + \"\\n\")\n",
    "        self.log_display.insert(END, \"Encrypted value: example_encrypted_value\\n\")\n",
    "        self.log_display.insert(END, \"Variable used: example_variable\\n\")\n",
    "        self.log_display.see(END)\n",
    "\n",
    "    def simulate_handshake2(self):\n",
    "        self.log_display.insert(END, \"Simulating handshake according to TLS 1.2...\\n\")\n",
    "\n",
    "    def simulate_handshake3(self):\n",
    "        self.log_display.insert(END, \"Simulating handshake according to TLS 1.3...\\n\")\n",
    "\n",
    "    def simulate_handshake_etc(self):\n",
    "        self.log_display.insert(END, \"Simulating handshake according to my own TLS version: TLS etc.\\n\")\n",
    "\n",
    "\n"
   ],
   "id": "e8c42129a0c37737",
   "outputs": [],
   "execution_count": 32
  },
  {
   "metadata": {},
   "cell_type": "markdown",
   "source": "## Testing",
   "id": "5d120a37a493a237"
  },
  {
   "metadata": {
    "ExecuteTime": {
     "end_time": "2024-12-10T00:27:59.776096Z",
     "start_time": "2024-12-10T00:27:57.339592Z"
    }
   },
   "cell_type": "code",
   "source": [
    "#probando la gui\n",
    "\n",
    "if __name__ == \"__main__\":\n",
    "    root = Tk()\n",
    "    app = TLS_visualizer(root)\n",
    "    root.mainloop()"
   ],
   "id": "96ddf905d024d1",
   "outputs": [],
   "execution_count": 35
  },
  {
   "metadata": {},
   "cell_type": "code",
   "source": "",
   "id": "1318008a4c204d20",
   "outputs": [],
   "execution_count": null
  }
 ],
 "metadata": {
  "kernelspec": {
   "display_name": "Python 3",
   "language": "python",
   "name": "python3"
  },
  "language_info": {
   "codemirror_mode": {
    "name": "ipython",
    "version": 2
   },
   "file_extension": ".py",
   "mimetype": "text/x-python",
   "name": "python",
   "nbconvert_exporter": "python",
   "pygments_lexer": "ipython2",
   "version": "2.7.6"
  }
 },
 "nbformat": 4,
 "nbformat_minor": 5
}
