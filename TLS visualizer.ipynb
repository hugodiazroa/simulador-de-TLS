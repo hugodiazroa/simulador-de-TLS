{
 "cells": [
  {
   "metadata": {},
   "cell_type": "markdown",
   "source": [
    "# simulador-de-TLS\n",
    "\n",
    "## This is a simple tool to visualize the TLS protocol.\n",
    "\n",
    "### By hugodiazroa\n",
    "### For Introducción a la Criptografía Moderna\n",
    "### CC5301-1 2024\n",
    "\n"
   ],
   "id": "5fa64cfd13e7b921"
  },
  {
   "cell_type": "code",
   "id": "initial_id",
   "metadata": {
    "collapsed": true,
    "ExecuteTime": {
     "end_time": "2024-12-10T00:07:04.465013Z",
     "start_time": "2024-12-10T00:07:04.458230Z"
    }
   },
   "source": [
    "#imports:\n",
    "from tkinter import *\n"
   ],
   "outputs": [],
   "execution_count": 16
  },
  {
   "metadata": {},
   "cell_type": "markdown",
   "source": [
    "# simulador-de-TLS\n",
    "\n",
    "the task:\n",
    "\n",
    "\"\"\"\n",
    "\n",
    "Develop a system that simulates or illustrates the operation of TLS 1.3, including parameters, key agreement, certificates, encryption and authentication.\n",
    "\n",
    "parameters, key agreement, certificates, encryption and authentication.\n",
    "\n",
    "a. They should explicitly show what is going on in your system, thus allowing you to analyze and identify what is exchanged.\n",
    "\n",
    "b. Compare TLS 1.3 with version 1.2.\n",
    "\n",
    "\"\"\""
   ],
   "id": "c29c3a1a67908eed"
  },
  {
   "metadata": {
    "ExecuteTime": {
     "end_time": "2024-12-10T00:07:04.526862Z",
     "start_time": "2024-12-10T00:07:04.515085Z"
    }
   },
   "cell_type": "code",
   "source": [
    "#we will use the tkinter library to create the GUI\n",
    "#we will use the socket library to simulate the connection\n",
    "#we will use the ssl library to simulate the TLS protocol\n",
    "\n",
    "#we will create a class that will contain the GUI and the simulation of the TLS protocol\n",
    "\n",
    "class TLS_visualizer:\n",
    "    def __init__(self, r):\n",
    "        self.root = r\n",
    "        self.root.title(\"TLS Visualizer\")\n",
    "        self.root.geometry(\"800x600\")\n",
    "        self.root.resizable(False, False)\n",
    "        self.root.config(bg=\"#daa520\")  # Gold background\n",
    "\n",
    "        # variables\n",
    "        self.server = StringVar()\n",
    "        self.server.set(\"www.google.com\")\n",
    "        self.port = StringVar()\n",
    "        self.port.set(\"443\")\n",
    "        self.log = StringVar()\n",
    "        self.log.set(\"\")\n",
    "\n",
    "        # title\n",
    "        title = Label(self.root, text=\"TLS Visualizer\", font=(\"Arial\", 20), bg=\"#daa520\")  # Gold background\n",
    "        title.pack(pady=10)\n",
    "\n",
    "        # server\n",
    "        server_frame = Frame(self.root, bg=\"#b0b0b0\")  # Dark gray background\n",
    "        server_frame.pack(pady=10)\n",
    "\n",
    "        server_label = Label(server_frame, text=\"Server:\", font=(\"Arial\", 12), bg=\"#b0b0b0\")  # Dark gray background\n",
    "        server_label.grid(row=0, column=0)\n",
    "\n",
    "        server_entry = Entry(server_frame, textvariable=self.server, font=(\"Arial\", 12))\n",
    "        server_entry.grid(row=0, column=1)\n",
    "\n",
    "        # port\n",
    "        port_frame = Frame(self.root, bg=\"#b0b0b0\")  # Dark gray background\n",
    "        port_frame.pack(pady=10)\n",
    "\n",
    "        port_label = Label(port_frame, text=\"Port:\", font=(\"Arial\", 12), bg=\"#b0b0b0\")  # Dark gray background\n",
    "        port_label.grid(row=0, column=0)\n",
    "\n",
    "        port_entry = Entry(port_frame, textvariable=self.port, font=(\"Arial\", 12))\n",
    "        port_entry.grid(row=0, column=1)\n",
    "\n",
    "        # connect button\n",
    "        connect_button = Button(self.root, text=\"Connect\", font=(\"Arial\", 12), command=self.connect)\n",
    "        connect_button.pack(pady=10)\n",
    "\n",
    "        # log display\n",
    "        self.log_display = Text(self.root, font=(\"Arial\", 12), width=80, height=20, bg=\"black\", fg=\"white\")\n",
    "        self.log_display.pack(pady=10)\n",
    "\n",
    "    def connect(self):\n",
    "        server = self.server.get()\n",
    "        port = self.port.get()\n",
    "\n",
    "        self.log_display.insert(END, f\"Connecting to server {server} on port {port}...\\n\")\n",
    "        self.log_display.see(END)\n",
    "\n",
    "        # Simulate connection and log details\n",
    "        self.log_display.insert(END, \"Client: localhost\\n\")\n",
    "        self.log_display.insert(END, \"Server: \" + server + \"\\n\")\n",
    "        self.log_display.insert(END, \"Encrypted value: example_encrypted_value\\n\")\n",
    "        self.log_display.insert(END, \"Variable used: example_variable\\n\")\n",
    "        self.log_display.see(END)\n",
    "\n",
    "    def simulate_handshake(self):\n",
    "        pass"
   ],
   "id": "e8c42129a0c37737",
   "outputs": [],
   "execution_count": 17
  },
  {
   "metadata": {
    "jupyter": {
     "is_executing": true
    },
    "ExecuteTime": {
     "start_time": "2024-12-10T00:07:04.588018Z"
    }
   },
   "cell_type": "code",
   "source": [
    "#testing for the class TLS_visualizer\n",
    "\n",
    "#we initialize the GUI\n",
    "root = Tk()\n",
    "app = TLS_visualizer(root)\n",
    "root.mainloop()\n",
    "\n"
   ],
   "id": "96ddf905d024d1",
   "outputs": [],
   "execution_count": null
  }
 ],
 "metadata": {
  "kernelspec": {
   "display_name": "Python 3",
   "language": "python",
   "name": "python3"
  },
  "language_info": {
   "codemirror_mode": {
    "name": "ipython",
    "version": 2
   },
   "file_extension": ".py",
   "mimetype": "text/x-python",
   "name": "python",
   "nbconvert_exporter": "python",
   "pygments_lexer": "ipython2",
   "version": "2.7.6"
  }
 },
 "nbformat": 4,
 "nbformat_minor": 5
}
