{
 "cells": [
  {
   "metadata": {},
   "cell_type": "markdown",
   "source": [
    "# simulador-de-TLS\n",
    "\n",
    "## This is a simple tool to visualize the TLS protocol.\n",
    "\n",
    "### By hugodiazroa\n",
    "### For Introducción a la Criptografía Moderna\n",
    "### CC5301-1 2024\n",
    "\n"
   ],
   "id": "5fa64cfd13e7b921"
  },
  {
   "cell_type": "code",
   "id": "initial_id",
   "metadata": {
    "collapsed": true,
    "ExecuteTime": {
     "end_time": "2024-12-09T23:55:11.802901Z",
     "start_time": "2024-12-09T23:55:11.732742Z"
    }
   },
   "source": [
    "#imports:\n",
    "from tkinter import *\n"
   ],
   "outputs": [],
   "execution_count": 1
  },
  {
   "metadata": {},
   "cell_type": "markdown",
   "source": [
    "# simulador-de-TLS\n",
    "\n",
    "the task:\n",
    "\n",
    "\"\"\"\n",
    "\n",
    "Develop a system that simulates or illustrates the operation of TLS 1.3, including parameters, key agreement, certificates, encryption and authentication.\n",
    "\n",
    "parameters, key agreement, certificates, encryption and authentication.\n",
    "\n",
    "a. They should explicitly show what is going on in your system, thus allowing you to analyze and identify what is exchanged.\n",
    "\n",
    "b. Compare TLS 1.3 with version 1.2.\n",
    "\n",
    "\"\"\""
   ],
   "id": "c29c3a1a67908eed"
  },
  {
   "metadata": {
    "ExecuteTime": {
     "end_time": "2024-12-09T23:55:13.973716Z",
     "start_time": "2024-12-09T23:55:13.958762Z"
    }
   },
   "cell_type": "code",
   "source": [
    "#we will use the tkinter library to create the GUI\n",
    "#we will use the socket library to simulate the connection\n",
    "#we will use the ssl library to simulate the TLS protocol\n",
    "\n",
    "#we will create a class that will contain the GUI and the simulation of the TLS protocol\n",
    "class TLS_Visualizer:\n",
    "    def __init__(self, r):\n",
    "        self.root = r\n",
    "        self.root.title(\"TLS Visualizer\")\n",
    "        self.root.geometry(\"800x600\")\n",
    "        self.root.resizable(False, False)\n",
    "        self.root.config(bg=\"black\")\n",
    "\n",
    "        #variables\n",
    "        self.server = StringVar()\n",
    "        self.server.set(\"www.etc...\")\n",
    "        self.port = StringVar()\n",
    "        self.port.set(\"\")\n",
    "        self.log = StringVar()\n",
    "        self.log.set(\"\")\n",
    "\n",
    "        #title\n",
    "        title = Label(self.root, text=\"TLS Visualizer\", font=(\"Arial\", 20), bg=\"white\")\n",
    "        title.pack(pady=10)\n",
    "\n",
    "        #server\n",
    "        server_frame = Frame(self.root, bg=\"white\")\n",
    "        server_frame.pack(pady=10)\n",
    "\n",
    "        server_label = Label(server_frame, text=\"Server:\", font=(\"Arial\", 12), bg=\"white\")\n",
    "        server_label.grid(row=0, column=0)\n",
    "\n",
    "        server_entry = Entry(server_frame, textvariable=self.server, font=(\"Arial\", 12))\n",
    "        server_entry.grid(row=0, column=1)\n",
    "\n",
    "        #port\n",
    "        port_frame = Frame(self.root, bg=\"white\")\n",
    "        port_frame.pack(pady=10)\n",
    "\n",
    "        port_label = Label(port_frame, text=\"Port:\", font=(\"Arial\", 12), bg=\"white\")\n",
    "        port_label.grid(row=0, column=0)\n",
    "\n",
    "        port_entry = Entry(port_frame, textvariable=self.port, font=(\"Arial\", 12))\n",
    "        port_entry.grid(row=0, column=1)\n",
    "\n",
    "        #connect button\n",
    "        connect_button = Button(self.root, text=\"Connect\", font=(\"Arial\", 12), command=self.connect)\n",
    "        connect_button.pack(pady=10)\n",
    "\n",
    "        #log\n",
    "        log_frame = Frame(self.root, bg=\"white\")\n",
    "        log_frame.pack(pady=10)\n",
    "\n",
    "        log_label = Label(log_frame, text=\"Log:\", font=(\"Arial\", 12), bg=\"white\")\n",
    "        log_label.grid(row=0, column=0)\n",
    "\n",
    "        log_entry = Entry(log_frame, textvariable=self.log, font=(\"Arial\", 12), width=50)\n",
    "        log_entry.grid(row=0, column=1)\n",
    "\n",
    "    def connect(self):\n",
    "#        server = self.server.get()\n",
    "#        port = self.port.get()\n",
    "         self.log.set(\"Connecting to server...\")"
   ],
   "id": "e8c42129a0c37737",
   "outputs": [],
   "execution_count": 2
  },
  {
   "metadata": {
    "ExecuteTime": {
     "end_time": "2024-12-09T23:42:19.775513Z",
     "start_time": "2024-12-09T23:42:19.749064Z"
    }
   },
   "cell_type": "code",
   "source": [
    "#testing for the class TLS_visualizer\n",
    "\n",
    "\n"
   ],
   "id": "96ddf905d024d1",
   "outputs": [
    {
     "ename": "NameError",
     "evalue": "name 'Tk' is not defined",
     "output_type": "error",
     "traceback": [
      "\u001B[0;31m---------------------------------------------------------------------------\u001B[0m",
      "\u001B[0;31mNameError\u001B[0m                                 Traceback (most recent call last)",
      "Cell \u001B[0;32mIn[4], line 2\u001B[0m\n\u001B[1;32m      1\u001B[0m \u001B[38;5;66;03m#testing for the class TLS_visualizer\u001B[39;00m\n\u001B[0;32m----> 2\u001B[0m root \u001B[38;5;241m=\u001B[39m \u001B[43mTk\u001B[49m()\n\u001B[1;32m      3\u001B[0m app \u001B[38;5;241m=\u001B[39m TLS_Visualizer(root)\n\u001B[1;32m      4\u001B[0m root\u001B[38;5;241m.\u001B[39mmainloop()\n",
      "\u001B[0;31mNameError\u001B[0m: name 'Tk' is not defined"
     ]
    }
   ],
   "execution_count": 4
  }
 ],
 "metadata": {
  "kernelspec": {
   "display_name": "Python 3",
   "language": "python",
   "name": "python3"
  },
  "language_info": {
   "codemirror_mode": {
    "name": "ipython",
    "version": 2
   },
   "file_extension": ".py",
   "mimetype": "text/x-python",
   "name": "python",
   "nbconvert_exporter": "python",
   "pygments_lexer": "ipython2",
   "version": "2.7.6"
  }
 },
 "nbformat": 4,
 "nbformat_minor": 5
}
